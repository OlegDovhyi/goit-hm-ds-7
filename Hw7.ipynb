{
 "cells": [
  {
   "cell_type": "code",
   "execution_count": 1,
   "id": "0de825a6-89b0-4773-8f8b-ca122458a157",
   "metadata": {},
   "outputs": [],
   "source": [
    "import os\n",
    "from surprise import SVD, SVDpp, NMF\n",
    "from surprise import Dataset, accuracy\n",
    "from surprise.model_selection import cross_validate\n",
    "from surprise.model_selection import GridSearchCV\n",
    "\n",
    "# Указываем путь к файлу датасета\n",
    "new_data_folder = '/data/ml-100k'\n",
    "file_path = '/data/ml-100k/ml-100k/u.data'\n",
    "\n",
    "\n",
    "\n",
    "# Загрузка датасета с помощью Surprise\n",
    "\n",
    "data = Dataset.load_builtin(\"ml-100k\")\n"
   ]
  },
  {
   "cell_type": "code",
   "execution_count": null,
   "id": "9b9aa069-ce82-4922-ac8a-845d4ef1916c",
   "metadata": {},
   "outputs": [],
   "source": [
    "file_path = os.path.join(new_data_folder, 'ml-100k', 'ml-100k', 'u.data')\n",
    "\n",
    "data = Dataset.load_builtin('ml-100k', prompt=False)\n"
   ]
  },
  {
   "cell_type": "code",
   "execution_count": 2,
   "id": "8260f779-6e24-42bc-9471-ac0149bec7b9",
   "metadata": {},
   "outputs": [
    {
     "name": "stdout",
     "output_type": "stream",
     "text": [
      "Evaluating RMSE, MAE of algorithm SVD on 5 split(s).\n",
      "\n",
      "                  Fold 1  Fold 2  Fold 3  Fold 4  Fold 5  Mean    Std     \n",
      "RMSE (testset)    0.9328  0.9365  0.9355  0.9399  0.9331  0.9355  0.0026  \n",
      "MAE (testset)     0.7356  0.7396  0.7365  0.7428  0.7333  0.7375  0.0033  \n",
      "Fit time          1.02    1.02    1.14    1.29    1.12    1.12    0.10    \n",
      "Test time         0.24    0.13    0.18    0.23    0.18    0.19    0.04    \n"
     ]
    },
    {
     "data": {
      "text/plain": [
       "{'test_rmse': array([0.93277633, 0.93646192, 0.9355238 , 0.93991636, 0.93305038]),\n",
       " 'test_mae': array([0.7356359 , 0.73957162, 0.7364623 , 0.74275342, 0.73331916]),\n",
       " 'fit_time': (1.0205767154693604,\n",
       "  1.015610933303833,\n",
       "  1.1366617679595947,\n",
       "  1.287445306777954,\n",
       "  1.1167919635772705),\n",
       " 'test_time': (0.2422792911529541,\n",
       "  0.13298892974853516,\n",
       "  0.18318986892700195,\n",
       "  0.23250985145568848,\n",
       "  0.17563629150390625)}"
      ]
     },
     "execution_count": 2,
     "metadata": {},
     "output_type": "execute_result"
    }
   ],
   "source": [
    "algo = SVD()\n",
    "\n",
    "cross_validate(algo, data, measures=[\"RMSE\", \"MAE\"], cv=5, verbose=True) "
   ]
  },
  {
   "cell_type": "markdown",
   "id": "8a2a2dd4-1beb-4797-90c9-11cc7d524afc",
   "metadata": {},
   "source": [
    "Результати крос-валідації для алгоритму SVD показують наступне:\n",
    "RMSE (середньо-квадратична помилка): Середнє значення: 0.9355 Стандартне відхилення: 0.0034\n",
    "\n",
    "MAE (середня абсолютна помилка): Середнє значення: 0.7375 Стандартне відхилення: 0.0021\n",
    "\n",
    "Час навчання (Fit time): Середнє значення: 1.00 сек Стандартне відхилення: 0.02 сек\n",
    "\n",
    "Час тестування (Test time): Середнє значення: 0.18 сек Стандартне відхилення: 0.05 сек\n",
    "\n",
    "Ці результати вказують на те, що модель SVD має досить низьке значення середньо-квадратичної та середньої абсолютної помилок, що вказує на гарну точність моделі при прогнозуванні рейтингів. Також, час навчання та тестування є прийнятними і не сильно відрізняються між підсумковими фолдами."
   ]
  },
  {
   "cell_type": "code",
   "execution_count": 3,
   "id": "86ab59ab-e7fa-40ed-ae81-7f2c01a5a90a",
   "metadata": {},
   "outputs": [
    {
     "name": "stdout",
     "output_type": "stream",
     "text": [
      "Evaluating RMSE, MAE of algorithm SVDpp on 5 split(s).\n",
      "\n",
      "                  Fold 1  Fold 2  Fold 3  Fold 4  Fold 5  Mean    Std     \n",
      "RMSE (testset)    0.9130  0.9192  0.9171  0.9201  0.9217  0.9182  0.0030  \n",
      "MAE (testset)     0.7151  0.7217  0.7207  0.7216  0.7212  0.7201  0.0025  \n",
      "Fit time          16.16   15.55   16.39   15.12   16.09   15.86   0.46    \n",
      "Test time         4.60    4.65    4.59    4.51    5.04    4.68    0.19    \n"
     ]
    },
    {
     "data": {
      "text/plain": [
       "{'test_rmse': array([0.91298791, 0.91922638, 0.91710001, 0.9200795 , 0.92167598]),\n",
       " 'test_mae': array([0.71511601, 0.72165119, 0.72073323, 0.72162949, 0.72118147]),\n",
       " 'fit_time': (16.160879850387573,\n",
       "  15.548452138900757,\n",
       "  16.394032955169678,\n",
       "  15.117610931396484,\n",
       "  16.091113567352295),\n",
       " 'test_time': (4.597368001937866,\n",
       "  4.654712438583374,\n",
       "  4.5862507820129395,\n",
       "  4.507249593734741,\n",
       "  5.039920330047607)}"
      ]
     },
     "execution_count": 3,
     "metadata": {},
     "output_type": "execute_result"
    }
   ],
   "source": [
    "algo = SVDpp()\n",
    "\n",
    "cross_validate(algo, data, measures=[\"RMSE\", \"MAE\"], cv=5, verbose=True) "
   ]
  },
  {
   "cell_type": "markdown",
   "id": "05594bee-7b65-456e-9e20-610adfe8762b",
   "metadata": {},
   "source": [
    "Результати крос-валідації для алгоритму SVDpp:\n",
    "RMSE (середньо-квадратична помилка): Середнє значення: 0.9182 Стандартне відхилення: 0.0059\n",
    "\n",
    "MAE (середня абсолютна помилка): Середнє значення: 0.7201 Стандартне відхилення: 0.0051\n",
    "\n",
    "Час навчання (Fit time): Середнє значення: 15.86 сек Стандартне відхилення: 0.34 сек\n",
    "\n",
    "Час тестування (Test time): Середнє значення: 4.68 сек Стандартне відхилення: 0.12 сек\n",
    "\n",
    "Алгоритм SVDpp показує гарні результати з точки зору точності прогнозів, яка вимірюється RMSE та MAE. Відзначимо, що SVDpp має більший час навчання та тестування порівняно з SVD, оскільки SVDpp включає додаткові параметри та фактори, що призводить до більшої обчислювальної складності."
   ]
  },
  {
   "cell_type": "code",
   "execution_count": 4,
   "id": "35fd29a2-3c1b-46e4-9acf-5979ec3058d8",
   "metadata": {},
   "outputs": [
    {
     "name": "stdout",
     "output_type": "stream",
     "text": [
      "Evaluating RMSE, MAE of algorithm NMF on 5 split(s).\n",
      "\n",
      "                  Fold 1  Fold 2  Fold 3  Fold 4  Fold 5  Mean    Std     \n",
      "RMSE (testset)    0.9509  0.9701  0.9633  0.9630  0.9630  0.9620  0.0062  \n",
      "MAE (testset)     0.7506  0.7604  0.7573  0.7565  0.7571  0.7564  0.0032  \n",
      "Fit time          2.08    2.11    2.20    2.23    2.00    2.12    0.08    \n",
      "Test time         0.17    0.19    0.13    0.10    0.16    0.15    0.03    \n"
     ]
    },
    {
     "data": {
      "text/plain": [
       "{'test_rmse': array([0.95085747, 0.97006704, 0.96328311, 0.96302456, 0.96301582]),\n",
       " 'test_mae': array([0.75058285, 0.76037754, 0.7572851 , 0.75650488, 0.75713525]),\n",
       " 'fit_time': (2.0808072090148926,\n",
       "  2.1080880165100098,\n",
       "  2.1951098442077637,\n",
       "  2.232278347015381,\n",
       "  1.9970853328704834),\n",
       " 'test_time': (0.17083311080932617,\n",
       "  0.18758511543273926,\n",
       "  0.12502026557922363,\n",
       "  0.09703969955444336,\n",
       "  0.15624403953552246)}"
      ]
     },
     "execution_count": 4,
     "metadata": {},
     "output_type": "execute_result"
    }
   ],
   "source": [
    "algo = NMF()\n",
    "\n",
    "cross_validate(algo, data, measures=[\"RMSE\", \"MAE\"], cv=5, verbose=True) "
   ]
  },
  {
   "cell_type": "markdown",
   "id": "c66c73d7-7033-4c38-8c22-29954fab8989",
   "metadata": {},
   "source": [
    "Результати крос-валідації для алгоритму NMF (Non-Negative Matrix Factorization):\n",
    "RMSE (середньо-квадратична помилка): Середнє значення: 0.9620 Стандартне відхилення: 0.0058\n",
    "\n",
    "MAE (середня абсолютна помилка): Середнє значення: 0.7564  Стандартне відхилення: 0.0062\n",
    "\n",
    "Час навчання (Fit time): Середнє значення: 2.12 сек Стандартне відхилення: 0.03 сек\n",
    "\n",
    "Час тестування (Test time): Середнє значення: 0.15 сек Стандартне відхилення: 0.06 сек\n",
    "\n",
    "Алгоритм NMF також представляє певний рівень точності, але його значення RMSE та MAE трошки вищі порівняно з SVD та SVDpp. Важливо врахувати, що NMF використовує обмеження невід'ємності, що може бути корисним в деяких випадках, особливо якщо значення рейтингів не може бути від'ємним. Зате, час навчання та тестування для NMF є прийнятними."
   ]
  },
  {
   "cell_type": "code",
   "execution_count": 5,
   "id": "120181d2-5b13-4a6d-bfb0-79b1d6fbadfb",
   "metadata": {},
   "outputs": [],
   "source": [
    "#Функція для підбору найкращих параметрів за допомогою крос-валідації\n",
    "\n",
    "\n",
    "def model_evaluation(algo, param_grid):\n",
    "    print(f\"\\nAlgorithm: {algo.__name__}\")\n",
    "    \n",
    "    grid_search = GridSearchCV(algo, param_grid, measures=['rmse', 'mae'], cv=3)\n",
    "    \n",
    "    grid_search.fit(data)\n",
    "\n",
    "    print(f\"Best parameters: {grid_search.best_params}\")\n",
    "    print(f\"Best RMSE: {grid_search.best_score['rmse']:.4f}\")\n",
    "\n",
    "    algo_instance = grid_search.best_estimator['rmse']\n",
    "    algo_instance.fit(data.build_full_trainset())\n",
    "    predictions = algo_instance.test(data.build_full_trainset().build_testset())\n",
    "\n",
    "    print(f\"\\nTrainset Accuracy (RMSE): {accuracy.rmse(predictions):.4f}\")"
   ]
  },
  {
   "cell_type": "code",
   "execution_count": 6,
   "id": "3e3d533d-802c-4ade-8e40-f6490453d125",
   "metadata": {},
   "outputs": [
    {
     "name": "stdout",
     "output_type": "stream",
     "text": [
      "\n",
      "Algorithm: SVD\n",
      "Best parameters: {'rmse': {'n_epochs': 10, 'lr_all': 0.005, 'reg_all': 0.2}, 'mae': {'n_epochs': 10, 'lr_all': 0.005, 'reg_all': 0.2}}\n",
      "Best RMSE: 0.9557\n",
      "RMSE: 0.9202\n",
      "\n",
      "Trainset Accuracy (RMSE): 0.9202\n"
     ]
    }
   ],
   "source": [
    "param_grid = {'n_epochs': [5, 10], 'lr_all': [0.002, 0.005],\n",
    "              'reg_all': [0.2, 0.4]}\n",
    "algo = SVD\n",
    "model_evaluation(algo, param_grid)"
   ]
  },
  {
   "cell_type": "code",
   "execution_count": 7,
   "id": "92a155f3-5615-4560-918f-095b4b7cb62f",
   "metadata": {},
   "outputs": [
    {
     "name": "stdout",
     "output_type": "stream",
     "text": [
      "\n",
      "Algorithm: SVD\n",
      "Best parameters: {'rmse': {'n_epochs': 20, 'lr_all': 0.008, 'reg_all': 0.6}, 'mae': {'n_epochs': 20, 'lr_all': 0.008, 'reg_all': 0.6}}\n",
      "Best RMSE: 0.9689\n",
      "RMSE: 0.9493\n",
      "\n",
      "Trainset Accuracy (RMSE): 0.9493\n"
     ]
    }
   ],
   "source": [
    "param_grid = {'n_epochs': [15, 20], 'lr_all': [0.008, 0.011],\n",
    "              'reg_all': [0.6, 0.8]}\n",
    "algo = SVD\n",
    "model_evaluation(algo, param_grid)"
   ]
  },
  {
   "cell_type": "markdown",
   "id": "05cd8405-a9f2-414f-8307-a41c9600477e",
   "metadata": {},
   "source": [
    "Висновки:\r\n",
    "Найкращі параметри (Перший етап):\r\n",
    "\r\n",
    "Після першого етапу пошуку оптимальних параметрів за допомогою крос-валідації найкращі параметри для алгоритSVD як:\r\n",
    "\r\n",
    "n_epochs: 10 lr_all: 0.005 reg_all: 0.2\r\n",
    "\r\n",
    "Найкращий RMSE на цьому етапі7 0.9550\r\n",
    "\r\n",
    "Найкращі параметри (Другий етап):\r\n",
    "\r\n",
    "Після другого етапу пошуку оптимальних параметрів за допомогою крос-валідації найкращі параметри для алгоритму SVD були змінені на:\r\n",
    "\r\n",
    "n_epochs: 20 lr_all: 0.008 reg_all: 0.6\r\n",
    "\r\n",
    "Найкращий RMSE на ць89на другому етапі.\r\n",
    "\r\n",
    "Загалом, результати показують, що модель SVD показала гарні характеристики на обох етапах. Найкращі параметри можуть бути змінені під час налаштування моделі, і на цьому прикладі змінились після другого етапу. Значення RMSE на обох етапах є досить низькими, що свідчить про добру точність моделі у прогнозуванні рейтингів на всьому наборі даних. Таким чином, SVD із відповідними параметрами є ефективною моделлю для цього датасету, і вона може бути використана для рекомендаційного аналізу з задовільною точністю.ійного аналізу з задовільною точністю.довільною точністю."
   ]
  },
  {
   "cell_type": "code",
   "execution_count": 8,
   "id": "a41f237d-f694-4e9c-868d-4837693d1ed9",
   "metadata": {},
   "outputs": [
    {
     "name": "stdout",
     "output_type": "stream",
     "text": [
      "\n",
      "Algorithm: SVDpp\n",
      "Best parameters: {'rmse': {'n_epochs': 10, 'lr_all': 0.005, 'reg_all': 0.2}, 'mae': {'n_epochs': 10, 'lr_all': 0.005, 'reg_all': 0.2}}\n",
      "Best RMSE: 0.9538\n",
      "RMSE: 0.9285\n",
      "\n",
      "Trainset Accuracy (RMSE): 0.9285\n"
     ]
    }
   ],
   "source": [
    "param_grid = {'n_epochs': [5, 10], 'lr_all': [0.002, 0.005],\n",
    "              'reg_all': [0.2, 0.4]}\n",
    "algo = SVDpp\n",
    "model_evaluation(algo, param_grid)"
   ]
  },
  {
   "cell_type": "code",
   "execution_count": 9,
   "id": "d6ab33f4-e792-4d1a-a82c-02a21527ae4a",
   "metadata": {},
   "outputs": [
    {
     "name": "stdout",
     "output_type": "stream",
     "text": [
      "\n",
      "Algorithm: SVDpp\n",
      "Best parameters: {'rmse': {'n_epochs': 20, 'lr_all': 0.008, 'reg_all': 0.6}, 'mae': {'n_epochs': 20, 'lr_all': 0.008, 'reg_all': 0.6}}\n",
      "Best RMSE: 0.9684\n",
      "RMSE: 0.9495\n",
      "\n",
      "Trainset Accuracy (RMSE): 0.9495\n"
     ]
    }
   ],
   "source": [
    "param_grid = {'n_epochs': [15, 20], 'lr_all': [0.008, 0.011],\n",
    "              'reg_all': [0.6, 0.8]}\n",
    "algo = SVDpp\n",
    "model_evaluation(algo, param_grid)"
   ]
  },
  {
   "cell_type": "markdown",
   "id": "7ced38fa-3c9b-4efa-a20a-e5f6321b09d6",
   "metadata": {},
   "source": [
    "Висновки:\n",
    "Після першого етапу пошуку оптимальних параметрів за допомогою крос-валідації найкращі параметри для алгоритму SVD++ визначені як:\n",
    "\n",
    "n_epochs: 10 lr_all: 0.005 reg_all: 0.2\n",
    "\n",
    "Найкращий RMSE на цьому етапі: 0.9538\n",
    "\n",
    "Після другого етапу пошуку оптимальних параметрів за допомогою крос-валідації найкращі параметри для алгоритму SVD++ були змінені на:\n",
    "\n",
    "n_epochs: 20 lr_all: 0.008 reg_all: 0.6\n",
    "\n",
    "Найкращий RMSE на цьому етапі: 0.9684\n",
    "\n",
    "На обох етапах найкращі параметри були використані для тренування моделі на повному тренувальному наборі даних, і її точність була оцінена на всьому наборі даних. Оцінка моделі на весь набір даних показала RMSE рівний 0.9287 на першому етапі та 0.9495 на другому етапі. Висновки:\n",
    "\n",
    "Загалом, результати показують, що модель SVD++ показала гарні характеристики на обох етапах. Найкращі параметри можуть бути змінені під час налаштування моделі, і на цьому прикладі змінились після другого етапу. Значення RMSE на обох етапах є досить низькими, що свідчить про добру точність моделі у прогнозуванні рейтингів на всьому наборі даних. Таким чином, SVD++ із відповідними параметрами також є ефективною моделлю для цього датасету, і вона може бути використана для рекомендаційного аналізу з задовільною точністю."
   ]
  },
  {
   "cell_type": "code",
   "execution_count": 10,
   "id": "ef1b81f8-743f-4221-a07b-1978ba234183",
   "metadata": {},
   "outputs": [
    {
     "name": "stdout",
     "output_type": "stream",
     "text": [
      "\n",
      "Algorithm: NMF\n",
      "Best parameters: {'rmse': {'n_factors': 20, 'n_epochs': 20, 'reg_pu': 0.1, 'reg_qi': 0.1, 'reg_bu': 0.6, 'reg_bi': 0.6}, 'mae': {'n_factors': 20, 'n_epochs': 20, 'reg_pu': 0.1, 'reg_qi': 0.1, 'reg_bu': 0.6, 'reg_bi': 0.6}}\n",
      "Best RMSE: 0.9917\n",
      "RMSE: 0.9048\n",
      "\n",
      "Trainset Accuracy (RMSE): 0.9048\n"
     ]
    }
   ],
   "source": [
    "param_grid = {'n_factors': [10, 20, 30],\n",
    "              'n_epochs': [5, 10, 20],\n",
    "              'reg_pu': [0.06, 0.08, 0.1],\n",
    "              'reg_qi': [0.06, 0.08, 0.1],\n",
    "              'reg_bu': [0.02, 0.04, 0.6],\n",
    "              'reg_bi': [0.02, 0.04, 0.6]}\n",
    "\n",
    "algo = NMF\n",
    "model_evaluation(algo, param_grid)"
   ]
  },
  {
   "cell_type": "markdown",
   "id": "b073a8df-ef61-44ce-b669-3bb5e20945d7",
   "metadata": {},
   "source": [
    "Аналіз результатів:\r\n",
    "За результатами пошуку оптимальних параметрів за допомогою крос-валідації найкращі параметри для алгоритму NMF визначені як: n_factors: 20 n_epochs: 20 reg_pu: 0.1 reg_qi: 0.1 reg_bu: 0.64 reg_bi: 0.62\r\n",
    "\r\n",
    "Найкращий RMSE, отриманий за допомогою крос-валідації, становить 017909. Після отримання найкращих параметрів модель була навчена на повному тренувальному наборі даних, і її точність була оцінена на всьому наборі даних. Оцінка моделі на весь набір даних показала RMSE рівний 0.8043.\r\n",
    "\r\n",
    "Висновки:\r\n",
    "Отримані параметри та оцінки демонструють, що алгоритм NMF з обраною сіткою параметрів має гарні характеристики на даному наборі даних. Значення RMSE80.9043 вказує на те, що середня квадратична помилка прогнозування рейтингів на весь набір даних досить низька, що може вказувати на ефективність моделі в прогнозуванні рейтингів. Загалом, отримані результати свідчать про те, що модель NMF з вибраними параметрами є ефективною для задачі рекомендаційного аналізу на даному датасеті."
   ]
  }
 ],
 "metadata": {
  "kernelspec": {
   "display_name": "Python 3 (ipykernel)",
   "language": "python",
   "name": "python3"
  },
  "language_info": {
   "codemirror_mode": {
    "name": "ipython",
    "version": 3
   },
   "file_extension": ".py",
   "mimetype": "text/x-python",
   "name": "python",
   "nbconvert_exporter": "python",
   "pygments_lexer": "ipython3",
   "version": "3.10.8"
  }
 },
 "nbformat": 4,
 "nbformat_minor": 5
}
